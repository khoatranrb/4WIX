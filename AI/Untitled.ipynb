{
 "cells": [
  {
   "cell_type": "markdown",
   "metadata": {},
   "source": [
    "## Image negatives"
   ]
  },
  {
   "cell_type": "code",
   "execution_count": null,
   "metadata": {},
   "outputs": [],
   "source": [
    "def image_negative(img):\n",
    "    return 255-img"
   ]
  },
  {
   "cell_type": "markdown",
   "metadata": {},
   "source": [
    "## Log transfomations"
   ]
  },
  {
   "cell_type": "code",
   "execution_count": null,
   "metadata": {},
   "outputs": [],
   "source": [
    "import numpy as np\n",
    "def log_trans(img,c):\n",
    "    return c*np.log(img)"
   ]
  },
  {
   "cell_type": "markdown",
   "metadata": {},
   "source": [
    "## Power-law (Gamma) transfomations"
   ]
  },
  {
   "cell_type": "code",
   "execution_count": null,
   "metadata": {},
   "outputs": [],
   "source": [
    "def gamma_trans(img,c,gamma):\n",
    "    return c*(img**gamma)"
   ]
  },
  {
   "cell_type": "markdown",
   "metadata": {},
   "source": [
    "## Contrast stretching"
   ]
  },
  {
   "cell_type": "code",
   "execution_count": null,
   "metadata": {},
   "outputs": [],
   "source": [
    "def contrast_stretching(IMG,point1,point2):\n",
    "    scale1 = point1[1]/point1[0]\n",
    "    scale2 = (point2[1]-point1[1])/(point2[0]-point1[0])\n",
    "    scale3 = (255-point2[1])/(255-point2[0])\n",
    "\n",
    "    img = IMG.astype(np.float)\n",
    "    r1 = np.where(img<p1[0])\n",
    "    r3 = np.where(img>p2[0])\n",
    "    r2 = np.where((img>p1[0]) & (img<p2[0]))\n",
    "    img[r1] *= s1\n",
    "    img[r2] = p1[1]+(img[r2]-p1[0])*s2\n",
    "    img[r3] = p2[1]+(img[r3]-p2[0])*s3\n",
    "\n",
    "    return img.astype(np.uint8)"
   ]
  },
  {
   "cell_type": "markdown",
   "metadata": {},
   "source": [
    "## Intensity-level slicing"
   ]
  },
  {
   "cell_type": "code",
   "execution_count": null,
   "metadata": {},
   "outputs": [],
   "source": [
    "def il(IMG,p1,p2,val,type):\n",
    "    img = IMG.astype(np.float)\n",
    "    if type=='A':\n",
    "        n = np.where((img>p1)&(img<p2))\n",
    "        res = np.zeros_like(img)\n",
    "        res[n] = val\n",
    "        return res.astype(np.uint8)\n",
    "    elif type=='B':\n",
    "        n = np.where((img>p1)&(img<p2))\n",
    "        img[n] = val\n",
    "        return img.astype(np.uint8)"
   ]
  },
  {
   "cell_type": "markdown",
   "metadata": {},
   "source": [
    "## Bit-plane slicing"
   ]
  },
  {
   "cell_type": "code",
   "execution_count": null,
   "metadata": {},
   "outputs": [],
   "source": [
    "def bit_plane(IMG,planes):\n",
    "    l = []\n",
    "    h, w = IMG.shape[:2]\n",
    "    for i in range(h):\n",
    "        for j in range(w):\n",
    "            l.append(np.binary_repr(IMG[i,j], width=8))\n",
    "    big_img = []\n",
    "    for i in range(8):\n",
    "        img = (np.array([int(j[7-i]) for j in l], dtype=np.uint8)*(2**i)).reshape((h,w))\n",
    "        big_img.append(img)\n",
    "    f1 = cv2.hconcat([IMG,big_img[7],big_img[6]])\n",
    "    f2 = cv2.hconcat([big_img[5],big_img[4],big_img[3]])\n",
    "    f3 = cv2.hconcat([big_img[2],big_img[1],big_img[0]])\n",
    "    res1 = cv2.vconcat([f1,f2,f3])\n",
    "    res2 = np.zeros_like(IMG, dtype=np.uint8)\n",
    "    for i in planes:\n",
    "        res2 += big_img[i]\n",
    "    return big_img, res1, res2"
   ]
  }
 ],
 "metadata": {
  "kernelspec": {
   "display_name": "Python 3",
   "language": "python",
   "name": "python3"
  },
  "language_info": {
   "codemirror_mode": {
    "name": "ipython",
    "version": 3
   },
   "file_extension": ".py",
   "mimetype": "text/x-python",
   "name": "python",
   "nbconvert_exporter": "python",
   "pygments_lexer": "ipython3",
   "version": "3.6.9"
  }
 },
 "nbformat": 4,
 "nbformat_minor": 4
}
